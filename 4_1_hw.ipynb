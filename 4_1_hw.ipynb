{
  "nbformat": 4,
  "nbformat_minor": 0,
  "metadata": {
    "colab": {
      "name": "4/1 hw.ipynb",
      "provenance": [],
      "collapsed_sections": [],
      "authorship_tag": "ABX9TyNASfLZDIMY922zHf0DYpIj",
      "include_colab_link": true
    },
    "kernelspec": {
      "name": "python3",
      "display_name": "Python 3"
    },
    "language_info": {
      "name": "python"
    }
  },
  "cells": [
    {
      "cell_type": "markdown",
      "metadata": {
        "id": "view-in-github",
        "colab_type": "text"
      },
      "source": [
        "<a href=\"https://colab.research.google.com/github/jtb1223/School-assignments/blob/main/4_1_hw.ipynb\" target=\"_parent\"><img src=\"https://colab.research.google.com/assets/colab-badge.svg\" alt=\"Open In Colab\"/></a>"
      ]
    },
    {
      "cell_type": "markdown",
      "source": [
        "1. Create a function that takes in two numbers and returns the average of those numbers\n",
        "\n",
        "2. Create a function that takes in two numbers and returns the sum from number1 to number2. For example, if it takes in 5 and 8, it would return the sum of 5,6,7,8. \n",
        "\n",
        "3. Create a function that takes in a item_cost, the percentage_off, and the tax.  It should return the total cost of the item. (need to do)\n",
        "\n",
        "4. Create a function that takes in a number, and outputs all the numbers below it that are prime.\n",
        "\n",
        "5. Create a function that takes in a number, and outputs all the numbers below it that are coprime to it\n",
        "\n",
        "6. Create a function that takes in a number and return how many numbers below it are coprime (use the previous question)\n",
        "\n",
        "7. Create a function that takes in a number and outputs all the numbers below it that are twin primes \n",
        "\n",
        "8. Two people are playing the game rock, paper, scissors.  Create a function that finds the probability of winning for each option using 10,000 trials.  Output said probabilities. \n",
        "\n",
        "9. Create a function that tests the probabilities of the Monty Hall problem. "
      ],
      "metadata": {
        "id": "qb8Y6cPDWfT0"
      }
    },
    {
      "cell_type": "code",
      "execution_count": null,
      "metadata": {
        "colab": {
          "base_uri": "https://localhost:8080/"
        },
        "id": "6YSIFIgcWdTG",
        "outputId": "8e17c389-8999-4a58-b2f3-7b301763c7f1"
      },
      "outputs": [
        {
          "output_type": "stream",
          "name": "stdout",
          "text": [
            "3.5\n",
            "4.5\n",
            "4.69\n"
          ]
        }
      ],
      "source": [
        "import numpy as np\n",
        "#question 1\n",
        "#avg of 2 nums\n",
        "def avg_of_2(x,y):\n",
        "  return (x+y)/2\n",
        "\n",
        "num_one = 2\n",
        "num_two = 5\n",
        "print(avg_of_2(num_one,num_two))\n",
        "\n",
        "#avg list of nums\n",
        "def avg_of_list(mynums):\n",
        "  total = 0\n",
        "  for i in mynums:\n",
        "    total = total + i\n",
        "  return total/len(mynums)\n",
        "\n",
        "z = [1,2,3,4,5,6,7,8]\n",
        "print(avg_of_list(z))\n",
        "\n",
        "#getting the weighted avg of a np.array\n",
        "def expectedvalue(info, weights):\n",
        "  return (info @ weights)\n",
        "\n",
        "info = np.array([2,3,4,5,6])\n",
        "weights = np.array([.1,.15,.07,.32,.36])\n",
        "print(expectedvalue(info,weights))\n",
        "\n"
      ]
    },
    {
      "cell_type": "code",
      "source": [
        "#the sum of a to b\n",
        "#question 2\n",
        "def sumrange(a,b):\n",
        "  total = 0\n",
        "  for i in range(a,b+1):\n",
        "    total = total + i\n",
        "  return total\n",
        "\n",
        "print(sumrange(5,8))"
      ],
      "metadata": {
        "colab": {
          "base_uri": "https://localhost:8080/"
        },
        "id": "jDWUFZ0BZ3KW",
        "outputId": "86879b53-40e2-49fc-bea3-31ffc8773c39"
      },
      "execution_count": null,
      "outputs": [
        {
          "output_type": "stream",
          "name": "stdout",
          "text": [
            "26\n"
          ]
        }
      ]
    },
    {
      "cell_type": "code",
      "source": [
        "#question 3\n",
        "#Create a function that takes in a item_cost, the percentage_off, and the tax. It should return the total cost of the item.\n",
        "def totalcost(cost, tax, percentoff):\n",
        "  total1 = (cost -(cost * percentoff))\n",
        "  total2 = (total1 -(total1 * tax))\n",
        "  return total2\n",
        "\n",
        "totalcost(100,.08,.20)"
      ],
      "metadata": {
        "id": "wXFi_Ml2jNoA",
        "colab": {
          "base_uri": "https://localhost:8080/"
        },
        "outputId": "19e0b561-ad0e-4972-8b79-05b71db1dd45"
      },
      "execution_count": 4,
      "outputs": [
        {
          "output_type": "execute_result",
          "data": {
            "text/plain": [
              "73.6"
            ]
          },
          "metadata": {},
          "execution_count": 4
        }
      ]
    },
    {
      "cell_type": "code",
      "source": [
        "#output the triagnle numbers, or squares, or pentagonal numbers\n",
        "\n",
        "def shapenum(shape):\n",
        "  if (shape == \"triangle\"):\n",
        "    skipVal = 1\n",
        "  elif (shape == \"square\"):\n",
        "    skipVal = 2\n",
        "  elif (shape == \"pentagon\"):\n",
        "    skipVal = 3\n",
        "\n",
        "  total = 0\n",
        "  for i in range(1,100,skipVal):\n",
        "    total = total + i\n",
        "    print(total,end = \" \")\n",
        "  print()\n",
        "\n",
        "shapenum(\"triangle\")\n",
        "shapenum(\"square\")\n",
        "shapenum(\"pentagon\")\n",
        "\n"
      ],
      "metadata": {
        "colab": {
          "base_uri": "https://localhost:8080/"
        },
        "id": "73hzosXZawkC",
        "outputId": "8a9dee15-a8f8-43a6-be9c-77fb6575ea2b"
      },
      "execution_count": null,
      "outputs": [
        {
          "output_type": "stream",
          "name": "stdout",
          "text": [
            "1 3 6 10 15 21 28 36 45 55 66 78 91 105 120 136 153 171 190 210 231 253 276 300 325 351 378 406 435 465 496 528 561 595 630 666 703 741 780 820 861 903 946 990 1035 1081 1128 1176 1225 1275 1326 1378 1431 1485 1540 1596 1653 1711 1770 1830 1891 1953 2016 2080 2145 2211 2278 2346 2415 2485 2556 2628 2701 2775 2850 2926 3003 3081 3160 3240 3321 3403 3486 3570 3655 3741 3828 3916 4005 4095 4186 4278 4371 4465 4560 4656 4753 4851 4950 \n",
            "1 4 9 16 25 36 49 64 81 100 121 144 169 196 225 256 289 324 361 400 441 484 529 576 625 676 729 784 841 900 961 1024 1089 1156 1225 1296 1369 1444 1521 1600 1681 1764 1849 1936 2025 2116 2209 2304 2401 2500 \n",
            "1 5 12 22 35 51 70 92 117 145 176 210 247 287 330 376 425 477 532 590 651 715 782 852 925 1001 1080 1162 1247 1335 1426 1520 1617 \n"
          ]
        }
      ]
    },
    {
      "cell_type": "code",
      "source": [
        "#list of primes below num\n",
        "#question 4\n",
        "#first create a function that tells u if num is prime\n",
        "#prime is a num that is divisible by a 1 and itself\n",
        "def isprime(num):\n",
        "  for i in range(2,num):\n",
        "    if(num % i == 0):\n",
        "      return False\n",
        "  return True\n",
        "\n",
        "def listprimes(num):\n",
        "  for i in range(2,num+1):\n",
        "    if(isprime(i)):\n",
        "      print(i,end = ' ')\n",
        "\n",
        "listprimes(100)"
      ],
      "metadata": {
        "colab": {
          "base_uri": "https://localhost:8080/"
        },
        "id": "V9nMpAQGeaKY",
        "outputId": "9bc85148-5dec-4fa4-f3ae-ec252888bfd9"
      },
      "execution_count": null,
      "outputs": [
        {
          "output_type": "stream",
          "name": "stdout",
          "text": [
            "2 3 5 7 11 13 17 19 23 29 31 37 41 43 47 53 59 61 67 71 73 79 83 89 97 "
          ]
        }
      ]
    },
    {
      "cell_type": "code",
      "source": [
        "#coprime means they dont share any divisors besides 1 (2 and 3)\n",
        "#function takes in a number and gives the coprimes\n",
        "#list all the numbers below some num that are coprime ot it\n",
        "#question 5\n",
        "#this function makes sure a < b\n",
        "def iscoprime(a,b):\n",
        "  if(a>b):\n",
        "    holder = a\n",
        "    a = b\n",
        "    b = holder\n",
        "\n",
        "#checks for no remainder\n",
        "  for i in range(2,a+1):\n",
        "    if(a%i == 0 and b%i ==0):\n",
        "      return False\n",
        "  return True\n",
        "\n",
        "#checks if num is prime\n",
        "def listcoprimes(num):\n",
        "  for i in range(num):\n",
        "    if(iscoprime(i,num)):\n",
        "      print(i,end = \" \")\n",
        "\n",
        "listcoprimes(12)"
      ],
      "metadata": {
        "colab": {
          "base_uri": "https://localhost:8080/"
        },
        "id": "wyXAv8J1fdP2",
        "outputId": "c4d4e04a-9ddd-48d6-8528-11b1bb904a42"
      },
      "execution_count": null,
      "outputs": [
        {
          "output_type": "stream",
          "name": "stdout",
          "text": [
            "0 1 5 7 11 "
          ]
        }
      ]
    },
    {
      "cell_type": "code",
      "source": [
        "#return how many numbers below it are coprime\n",
        "#question 6\n",
        "def iscoprime(a,b):\n",
        "  if(a>b):\n",
        "    holder = a\n",
        "    a = b\n",
        "    b = holder\n",
        "\n",
        "#checks for no remainder\n",
        "  for i in range(2,a+1):\n",
        "    if(a%i == 0 and b%i ==0):\n",
        "      return False\n",
        "  return True\n",
        "\n",
        "#checks if num is prime\n",
        "def listcoprimes(num):\n",
        "  total = 0\n",
        "  for i in range(num):\n",
        "    if(iscoprime(i,num)):\n",
        "      total = total + 1\n",
        "      print(total)\n",
        "\n",
        "\n",
        "listcoprimes(12)"
      ],
      "metadata": {
        "colab": {
          "base_uri": "https://localhost:8080/"
        },
        "id": "EH9REcqJh--C",
        "outputId": "ef178c3d-3411-4baa-f051-d3f0e515c563"
      },
      "execution_count": null,
      "outputs": [
        {
          "output_type": "stream",
          "name": "stdout",
          "text": [
            "1\n",
            "2\n",
            "3\n",
            "4\n",
            "5\n"
          ]
        }
      ]
    },
    {
      "cell_type": "code",
      "source": [
        "#Create a function that takes in a number and outputs all the numbers below it that are twin primes \n",
        "#question 7\n",
        "def istwinprime(s):\n",
        "  if (isprime(s) and isprime(s+2)):\n",
        "    return True\n",
        "  else:\n",
        "    return False\n",
        "\n",
        "def listtwinprimes(num):\n",
        "  for i in range(2,num+1):\n",
        "    if(istwinprime(i)):\n",
        "      print(i,i+2)\n",
        "\n",
        "listtwinprimes(100)"
      ],
      "metadata": {
        "colab": {
          "base_uri": "https://localhost:8080/"
        },
        "id": "0TTRRn2voOa3",
        "outputId": "7123574c-d11c-4a3c-f181-637450fa5ea6"
      },
      "execution_count": null,
      "outputs": [
        {
          "output_type": "stream",
          "name": "stdout",
          "text": [
            "3 5\n",
            "5 7\n",
            "11 13\n",
            "17 19\n",
            "29 31\n",
            "41 43\n",
            "59 61\n",
            "71 73\n"
          ]
        }
      ]
    },
    {
      "cell_type": "code",
      "source": [
        "#Two people are playing the game rock, paper, scissors. Create a function that finds the probability of winning for each option using 10,000 trials. Output said probabilities.\n",
        "#question 8\n",
        "import random as rnd\n",
        "\n",
        "rock = paper = scissors = 0\n",
        "\n",
        "for i in range(10000):\n",
        "  player1 = rnd.randint(1,3)\n",
        "  player2 = rnd.randint(1,3)\n",
        "\n",
        "  if((player1 == 1 and player2 == 3) or (player2 == 1 and player1 == 3)) :\n",
        "    rock = rock + 1\n",
        "  elif((player1 == 2 and player2 == 1) or (player2 == 2 and player1 == 1)) :\n",
        "    paper = paper + 1\n",
        "  elif((player1 == 3 and player2 == 2) or (player2 == 3 and player1 == 2)) :\n",
        "    scissors = scissors + 1\n",
        "  \n",
        "print(rock/10000)\n",
        "print(paper/10000)\n",
        "print(scissors/10000)\n",
        "print((10000 -(rock + paper + scissors))/10000)"
      ],
      "metadata": {
        "colab": {
          "base_uri": "https://localhost:8080/"
        },
        "id": "qQC6WX7Fo06U",
        "outputId": "8dcb0721-3f0b-4e4b-a289-b3dba1cb1a8e"
      },
      "execution_count": null,
      "outputs": [
        {
          "output_type": "stream",
          "name": "stdout",
          "text": [
            "0.2233\n",
            "0.2181\n",
            "0.2177\n",
            "0.3409\n"
          ]
        }
      ]
    },
    {
      "cell_type": "code",
      "source": [
        "#Create a function that tests the probabilities of the Monty Hall problem.\n",
        "#set door 1 and 2 to goat and 3 to prize\n",
        "#question 9\n",
        "import random as rnd\n",
        "\n",
        "def nochange():\n",
        "  mylist = [1,2,3]\n",
        "  rnd.shuffle(mylist)\n",
        "\n",
        "  #set up for goats and prize\n",
        "  doors = ['goat','goat', \"goat\"]\n",
        "  doors[mylist.index(3)] = 'prize'\n",
        "\n",
        "  if doors[0] == 'prize':\n",
        "    return True\n",
        "  else:\n",
        "    return False\n",
        "\n",
        "def measurenochange():\n",
        "  total = 0\n",
        "  for i in range(100000):\n",
        "    if(nochange()):\n",
        "      total = total + 1\n",
        "  print(total/100000)\n",
        "\n",
        "measurenochange()\n"
      ],
      "metadata": {
        "colab": {
          "base_uri": "https://localhost:8080/"
        },
        "id": "Rk6N32_io0w8",
        "outputId": "1b36a042-a65d-48fe-bd1e-349d63b71b7b"
      },
      "execution_count": null,
      "outputs": [
        {
          "output_type": "stream",
          "name": "stdout",
          "text": [
            "0\n",
            "['goat', 'goat']\n",
            "['prize', 'goat', 'goat']\n",
            "[3, 1, 2]\n",
            "0\n"
          ]
        }
      ]
    },
    {
      "cell_type": "code",
      "source": [
        "#question 9 part 2\n",
        "def yeschange():\n",
        "  mylist = [1,2,3]\n",
        "  rnd.shuffle(mylist)\n",
        "\n",
        "  #set up for goats and prize\n",
        "  doors = ['goat','goat', \"goat\"]\n",
        "  doors[mylist.index(3)] = 'prize'\n",
        "\n",
        "  #lets player choose\n",
        "  choice = 0\n",
        "\n",
        "  #create a sublist\n",
        "  toshow = doors[1:3]\n",
        "  doortoshow = toshow.index(\"goat\")\n",
        "\n",
        "  if(doortoshow == 0):\n",
        "    if(doors[2] == 'prize'):\n",
        "      return True\n",
        "    else:\n",
        "      return False\n",
        "  elif(doortoshow == 1):\n",
        "    if(doors[1] == 'prize'):\n",
        "      return True\n",
        "    else:\n",
        "      return False\n",
        "\n",
        "def measurenochange():\n",
        "  total = 0\n",
        "  for i in range(100000):\n",
        "    if(yeschange()):\n",
        "      total = total + 1\n",
        "  print(total/100000)\n",
        "\n",
        "measurenochange()\n",
        "\n",
        "print(doortoshow)\n",
        "print(doors)\n",
        "print(mylist)\n",
        "print(mylist.index(3))"
      ],
      "metadata": {
        "colab": {
          "base_uri": "https://localhost:8080/"
        },
        "id": "HF7JLswGvfyx",
        "outputId": "4f472953-0a0e-4270-ba21-c4ed12d3eb27"
      },
      "execution_count": null,
      "outputs": [
        {
          "output_type": "stream",
          "name": "stdout",
          "text": [
            "0.66616\n",
            "0\n",
            "['prize', 'goat', 'goat']\n",
            "[3, 1, 2]\n",
            "0\n"
          ]
        }
      ]
    },
    {
      "cell_type": "code",
      "source": [
        ""
      ],
      "metadata": {
        "id": "1HGkya2H1Ge_"
      },
      "execution_count": null,
      "outputs": []
    }
  ]
}