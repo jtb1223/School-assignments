{
  "nbformat": 4,
  "nbformat_minor": 0,
  "metadata": {
    "colab": {
      "name": "homework 2/18/22.ipynb",
      "provenance": [],
      "collapsed_sections": []
    },
    "kernelspec": {
      "name": "python3",
      "display_name": "Python 3"
    },
    "language_info": {
      "name": "python"
    }
  },
  "cells": [
    {
      "cell_type": "markdown",
      "source": [
        "#HW Week 3\n",
        "\n",
        "This shows the **present value**\n",
        "This is the formula used:\n",
        "> $PresentValue = Principal / (1+r)^{time}$"
      ],
      "metadata": {
        "id": "PTSN3XNVaCx5"
      }
    },
    {
      "cell_type": "code",
      "source": [
        "prin = float(input('Please add pricipal: '))\n",
        "rate = float(input('Please add rate: '))\n",
        "time = float(input('Please add time frame: '))\n",
        "for i in range(0,t+1,5):\n",
        "  PV = prin / (1+rate)**i\n",
        "  print(f'{i} \\t ${PV:,.2f}')"
      ],
      "metadata": {
        "colab": {
          "base_uri": "https://localhost:8080/"
        },
        "id": "2HRAPR_naBWB",
        "outputId": "4d200eb8-5452-4a81-f886-170c759d909f"
      },
      "execution_count": 21,
      "outputs": [
        {
          "output_type": "stream",
          "name": "stdout",
          "text": [
            "Please add pricipal: 100\n",
            "Please add rate: 0.05\n",
            "Please add time frame: 30\n",
            "0 \t $100.00\n",
            "5 \t $78.35\n",
            "10 \t $61.39\n",
            "15 \t $48.10\n",
            "20 \t $37.69\n",
            "25 \t $29.53\n",
            "30 \t $23.14\n"
          ]
        }
      ]
    },
    {
      "cell_type": "markdown",
      "source": [
        "#HW Week 3\n",
        "\n",
        "This code shows the **future value** \n",
        "The formula used is:\n",
        "\n",
        "> $FutureValue = Principal*(1+r)^{time}$"
      ],
      "metadata": {
        "id": "Ovixa2uxRbOJ"
      }
    },
    {
      "cell_type": "code",
      "execution_count": 7,
      "metadata": {
        "colab": {
          "base_uri": "https://localhost:8080/"
        },
        "id": "5V6XKYYXQNoD",
        "outputId": "d32c542e-34c4-4512-90dd-63285a713173"
      },
      "outputs": [
        {
          "output_type": "stream",
          "name": "stdout",
          "text": [
            "What is the amount monthly: 100\n",
            "please give the rate expected yearly: .05\n",
            "please give the years expected to hold investment: 30\n",
            "0 \t$1200.0\n",
            "5 \t$1531.5378750000004\n",
            "10 \t$1954.6735521329304\n",
            "15 \t$2494.7138152936427\n",
            "20 \t$3183.9572461733064\n",
            "25 \t$4063.6259290792664\n",
            "30 \t$5186.3308501808015\n"
          ]
        }
      ],
      "source": [
        "#gathers amount invested\n",
        "p = float(input(\"What is the amount monthly: \"))\n",
        "p *= 12\n",
        "#find out what the rate is and validate the data given\n",
        "r = float(input(\"please give the rate expected yearly: \"))\n",
        "if(r > 1):\n",
        "  rate /= 100\n",
        "#find out how long investment is\n",
        "t = int(input(\"please give the years expected to hold investment: \"))\n",
        "#calculate the return every 5 years\n",
        "for i in range(0,t+1,5):\n",
        "  FV = p*(1+r)**i\n",
        "  print(f'{i} \\t${FV}')"
      ]
    }
  ]
}