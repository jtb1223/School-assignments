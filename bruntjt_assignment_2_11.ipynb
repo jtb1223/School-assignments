{
  "nbformat": 4,
  "nbformat_minor": 0,
  "metadata": {
    "colab": {
      "name": "bruntjt assignment 2/11.ipynb",
      "provenance": [],
      "collapsed_sections": []
    },
    "kernelspec": {
      "name": "python3",
      "display_name": "Python 3"
    },
    "language_info": {
      "name": "python"
    }
  },
  "cells": [
    {
      "cell_type": "code",
      "execution_count": null,
      "metadata": {
        "id": "kq4ZAuVPYd3U"
      },
      "outputs": [],
      "source": [
        ""
      ]
    },
    {
      "cell_type": "markdown",
      "source": [
        "# About me\n",
        "**Hello! My name is jonathan brunner**\n",
        "\n",
        "*Something interesting about me is I have taken udemy course on python*\n",
        "\n",
        "[Link to the course i have taken](https://www.udemy.com/course/complete-python-bootcamp/)\n",
        "\n",
        "I have only done basic things like:\n",
        "1.   Made tictactoe\n",
        "2.   made a celcius to farehnheit calculator\n",
        "\n",
        "*My goal in coding is to make a game or something to automatize my life/ finances*\n",
        "\n"
      ],
      "metadata": {
        "id": "kLWBLrWlYnRq"
      }
    }
  ]
}