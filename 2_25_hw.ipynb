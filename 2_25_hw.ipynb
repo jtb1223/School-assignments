{
  "nbformat": 4,
  "nbformat_minor": 0,
  "metadata": {
    "colab": {
      "name": "2/25 hw.ipynb",
      "provenance": [],
      "authorship_tag": "ABX9TyOBYI/JumT8h8NO3ZGD48iM",
      "include_colab_link": true
    },
    "kernelspec": {
      "name": "python3",
      "display_name": "Python 3"
    },
    "language_info": {
      "name": "python"
    }
  },
  "cells": [
    {
      "cell_type": "markdown",
      "metadata": {
        "id": "view-in-github",
        "colab_type": "text"
      },
      "source": [
        "<a href=\"https://colab.research.google.com/github/jtb1223/School-assignments/blob/main/2_25_hw.ipynb\" target=\"_parent\"><img src=\"https://colab.research.google.com/assets/colab-badge.svg\" alt=\"Open In Colab\"/></a>"
      ]
    },
    {
      "cell_type": "markdown",
      "source": [
        "**Hw 2/25**\n",
        "Part 1"
      ],
      "metadata": {
        "id": "pAeX6WqhSqGB"
      }
    },
    {
      "cell_type": "code",
      "execution_count": 13,
      "metadata": {
        "colab": {
          "base_uri": "https://localhost:8080/"
        },
        "id": "qSmP2Xf3SjnY",
        "outputId": "f7e55beb-f72b-426c-9497-25bcca8cff25"
      },
      "outputs": [
        {
          "output_type": "stream",
          "name": "stdout",
          "text": [
            "Please enter the amount of packages purchased: 34\n",
            "the discount is: 20.0%\n",
            "the total price is : $2,692.80\n"
          ]
        }
      ],
      "source": [
        "itemprice = 99\n",
        "amount = 0\n",
        "discount = 0\n",
        "totalprice = 0\n",
        "\n",
        "amount = int(input(\"Please enter the amount of packages purchased: \"))\n",
        "if (amount >= 10 and amount <= 19):\n",
        "  discount = .1\n",
        "elif (amount >= 20 and amount <= 49):\n",
        "  discount = .2\n",
        "elif (amount >= 50 and amount <= 99):\n",
        "  discount = .3\n",
        "elif amount >= 100:\n",
        "  discount = .4\n",
        "\n",
        "print(f\"the discount is: {discount*100}%\")\n",
        "\n",
        "totalprice = amount * itemprice * (1-discount)\n",
        "print(f'the total price is : ${totalprice:,.2f}')"
      ]
    },
    {
      "cell_type": "markdown",
      "source": [
        "Part 2"
      ],
      "metadata": {
        "id": "9cCsFEIuTDh5"
      }
    },
    {
      "cell_type": "code",
      "source": [
        "rate = 0.00\n",
        "weight = int(input('Please enter the weight: '))\n",
        "\n",
        "if weight <= 2:\n",
        "  rate = 1.50\n",
        "elif (weight > 2 and weight <= 6):\n",
        "  rate = 3.00\n",
        "elif (weight > 6 and weight <= 10):\n",
        "  rate = 4.00\n",
        "elif (weight > 10):\n",
        "  rate = 4.75\n",
        "\n",
        "print(f'The shipping charge is: ${rate:,.2f} per pound') "
      ],
      "metadata": {
        "colab": {
          "base_uri": "https://localhost:8080/"
        },
        "id": "NWqHPgiiTDo5",
        "outputId": "779414ca-8c3b-411c-8363-2da837ef0c19"
      },
      "execution_count": 25,
      "outputs": [
        {
          "output_type": "stream",
          "name": "stdout",
          "text": [
            "Please enter the weight: 3\n",
            "The shipping charge is: $3.00 per pound\n"
          ]
        }
      ]
    }
  ]
}